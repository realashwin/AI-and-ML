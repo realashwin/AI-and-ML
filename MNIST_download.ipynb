{
 "cells": [
  {
   "cell_type": "code",
   "execution_count": 12,
   "metadata": {},
   "outputs": [],
   "source": [
    "from torch import *\n",
    "from torch.utils.data import DataLoader\n",
    "import torchvision.datasets as d\n",
    "import torchvision.transforms as transforms"
   ]
  },
  {
   "cell_type": "code",
   "execution_count": 13,
   "metadata": {},
   "outputs": [],
   "source": [
    "transform = transforms.Compose([transforms.ToTensor()])\n",
    "mnsit_data = d.MNIST(root='./datasets/MNIST',download=True)\n"
   ]
  },
  {
   "cell_type": "code",
   "execution_count": 14,
   "metadata": {},
   "outputs": [
    {
     "ename": "AttributeError",
     "evalue": "'torch.dtype' object has no attribute 'from_bytes'",
     "output_type": "error",
     "traceback": [
      "\u001b[1;31m---------------------------------------------------------------------------\u001b[0m",
      "\u001b[1;31mAttributeError\u001b[0m                            Traceback (most recent call last)",
      "Cell \u001b[1;32mIn[14], line 61\u001b[0m\n\u001b[0;32m     58\u001b[0m files_test \u001b[38;5;241m=\u001b[39m [\u001b[38;5;124m'\u001b[39m\u001b[38;5;124mMNIST/raw/t10k-images-idx3-ubyte\u001b[39m\u001b[38;5;124m'\u001b[39m,\u001b[38;5;124m'\u001b[39m\u001b[38;5;124mMNIST/raw/t10k-labels-idx1-ubyte\u001b[39m\u001b[38;5;124m'\u001b[39m]\n\u001b[0;32m     60\u001b[0m \u001b[38;5;28;01mtry\u001b[39;00m:\n\u001b[1;32m---> 61\u001b[0m     \u001b[43mprocess_mnist_images\u001b[49m\u001b[43m(\u001b[49m\u001b[43mfiles_train\u001b[49m\u001b[43m,\u001b[49m\u001b[43m \u001b[49m\u001b[38;5;124;43m'\u001b[39;49m\u001b[38;5;124;43mtrain\u001b[39;49m\u001b[38;5;124;43m'\u001b[39;49m\u001b[43m)\u001b[49m\n\u001b[0;32m     62\u001b[0m     process_mnist_images(files_test, \u001b[38;5;124m'\u001b[39m\u001b[38;5;124mval\u001b[39m\u001b[38;5;124m'\u001b[39m)\n\u001b[0;32m     63\u001b[0m \u001b[38;5;28;01mexcept\u001b[39;00m \u001b[38;5;167;01mFileNotFoundError\u001b[39;00m \u001b[38;5;28;01mas\u001b[39;00m e:\n",
      "Cell \u001b[1;32mIn[14], line 52\u001b[0m, in \u001b[0;36mprocess_mnist_images\u001b[1;34m(files, split)\u001b[0m\n\u001b[0;32m     49\u001b[0m file_path \u001b[38;5;241m=\u001b[39m [os\u001b[38;5;241m.\u001b[39mpath\u001b[38;5;241m.\u001b[39mjoin(base_path,x) \u001b[38;5;28;01mfor\u001b[39;00m x \u001b[38;5;129;01min\u001b[39;00m files]\n\u001b[0;32m     50\u001b[0m output_dir \u001b[38;5;241m=\u001b[39m os\u001b[38;5;241m.\u001b[39mpath\u001b[38;5;241m.\u001b[39mjoin(base_path,split)\n\u001b[1;32m---> 52\u001b[0m images \u001b[38;5;241m=\u001b[39m \u001b[43mget_mnist_images\u001b[49m\u001b[43m(\u001b[49m\u001b[43mfile_path\u001b[49m\u001b[43m[\u001b[49m\u001b[38;5;241;43m0\u001b[39;49m\u001b[43m]\u001b[49m\u001b[43m)\u001b[49m\n\u001b[0;32m     53\u001b[0m labels \u001b[38;5;241m=\u001b[39m get_mnist_labels(file_path[\u001b[38;5;241m1\u001b[39m])\n\u001b[0;32m     54\u001b[0m save_mnist_images(images,labels,output_dir)\n",
      "Cell \u001b[1;32mIn[14], line 12\u001b[0m, in \u001b[0;36mget_mnist_images\u001b[1;34m(image_dir)\u001b[0m\n\u001b[0;32m      9\u001b[0m \u001b[38;5;28;01mwith\u001b[39;00m \u001b[38;5;28mopen\u001b[39m(image_dir,\u001b[38;5;124m'\u001b[39m\u001b[38;5;124mrb\u001b[39m\u001b[38;5;124m'\u001b[39m) \u001b[38;5;28;01mas\u001b[39;00m f:\n\u001b[0;32m     10\u001b[0m     \u001b[38;5;66;03m# Read the first 4 bytes (magic number)\u001b[39;00m\n\u001b[0;32m     11\u001b[0m     magic_number \u001b[38;5;241m=\u001b[39m f\u001b[38;5;241m.\u001b[39mread(\u001b[38;5;241m4\u001b[39m)\n\u001b[1;32m---> 12\u001b[0m     num_items \u001b[38;5;241m=\u001b[39m  \u001b[38;5;28;43mint\u001b[39;49m\u001b[38;5;241;43m.\u001b[39;49m\u001b[43mfrom_bytes\u001b[49m(f\u001b[38;5;241m.\u001b[39mread(\u001b[38;5;241m4\u001b[39m), \u001b[38;5;124m'\u001b[39m\u001b[38;5;124mbig\u001b[39m\u001b[38;5;124m'\u001b[39m)\n\u001b[0;32m     13\u001b[0m     num_rows \u001b[38;5;241m=\u001b[39m  \u001b[38;5;28mint\u001b[39m\u001b[38;5;241m.\u001b[39mfrom_bytes(f\u001b[38;5;241m.\u001b[39mread(\u001b[38;5;241m4\u001b[39m), \u001b[38;5;124m'\u001b[39m\u001b[38;5;124mbig\u001b[39m\u001b[38;5;124m'\u001b[39m)\n\u001b[0;32m     14\u001b[0m     num_cols \u001b[38;5;241m=\u001b[39m \u001b[38;5;28mint\u001b[39m\u001b[38;5;241m.\u001b[39mfrom_bytes(f\u001b[38;5;241m.\u001b[39mread(\u001b[38;5;241m4\u001b[39m), \u001b[38;5;124m'\u001b[39m\u001b[38;5;124mbig\u001b[39m\u001b[38;5;124m'\u001b[39m)\n",
      "\u001b[1;31mAttributeError\u001b[0m: 'torch.dtype' object has no attribute 'from_bytes'"
     ]
    }
   ],
   "source": [
    "# Python script to read a ubyte file and create directories\n",
    "import os\n",
    "import numpy as np\n",
    "from PIL import Image\n",
    "import torch\n",
    "\n",
    "def get_mnist_images(image_dir):\n",
    "    \n",
    "    with open(image_dir,'rb') as f:\n",
    "        # Read the first 4 bytes (magic number)\n",
    "        magic_number = f.read(4)\n",
    "        num_items =  int.from_bytes(f.read(4), 'big')\n",
    "        num_rows =  int.from_bytes(f.read(4), 'big')\n",
    "        num_cols = int.from_bytes(f.read(4), 'big')\n",
    "\n",
    "        # Read images as an np array\n",
    "        images = np.frombuffer(f.read(),dtype=np.uint8).reshape(num_items,num_rows,num_cols)\n",
    "\n",
    "    return images\n",
    "\n",
    "def get_mnist_labels(label_dir):\n",
    "    with open(label_dir,'rb') as f:\n",
    "        # Read Bytes and Number of labels\n",
    "        magic_number = f.read(4)\n",
    "        num_items = int.from_bytes(f.read(4),'big')\n",
    "\n",
    "        # Get the labels in an array\n",
    "        labels = np.frombuffer(f.read(),dtype=np.uint8)\n",
    "    return labels\n",
    "\n",
    "\n",
    "def save_mnist_images(images,labels,output_dir):\n",
    "\n",
    "    # Create the output directory if it doesn't exist\n",
    "    os.makedirs(output_dir, exist_ok=True)\n",
    "\n",
    "    for i in range(images.shape[0]):\n",
    "        img = Image.fromarray(images[i],mode='L')\n",
    "        label = labels[i]\n",
    "\n",
    "        # Ensure output directory exists\n",
    "        label_dir = os.path.join(output_dir,str(label))\n",
    "        os.makedirs(label_dir, exist_ok=True)\n",
    "        \n",
    "        img.save(os.path.join(label_dir,f'image_{i}.png'))\n",
    "\n",
    "def process_mnist_images(files,split):\n",
    "    base_path = './datasets/MNIST/'\n",
    "    file_path = [os.path.join(base_path,x) for x in files]\n",
    "    output_dir = os.path.join(base_path,split)\n",
    "\n",
    "    images = get_mnist_images(file_path[0])\n",
    "    labels = get_mnist_labels(file_path[1])\n",
    "    save_mnist_images(images,labels,output_dir)\n",
    "\n",
    "# Get the File Locations\n",
    "files_train = ['MNIST/raw/train-images-idx3-ubyte','MNIST/raw/train-labels-idx1-ubyte']\n",
    "files_test = ['MNIST/raw/t10k-images-idx3-ubyte','MNIST/raw/t10k-labels-idx1-ubyte']\n",
    "\n",
    "try:\n",
    "    process_mnist_images(files_train, 'train')\n",
    "    process_mnist_images(files_test, 'val')\n",
    "except FileNotFoundError as e:\n",
    "    print(f\"Error: {e}. Please check the file paths.\")\n",
    "except ValueError as e:\n",
    "    print(f\"Validation Error: {e}\")"
   ]
  }
 ],
 "metadata": {
  "kernelspec": {
   "display_name": "Python 3",
   "language": "python",
   "name": "python3"
  },
  "language_info": {
   "codemirror_mode": {
    "name": "ipython",
    "version": 3
   },
   "file_extension": ".py",
   "mimetype": "text/x-python",
   "name": "python",
   "nbconvert_exporter": "python",
   "pygments_lexer": "ipython3",
   "version": "3.11.5"
  }
 },
 "nbformat": 4,
 "nbformat_minor": 2
}
