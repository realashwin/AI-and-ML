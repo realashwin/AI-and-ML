{
 "cells": [
  {
   "cell_type": "code",
   "execution_count": 45,
   "metadata": {},
   "outputs": [],
   "source": [
    "from torch import *\n",
    "from torch.utils.data import DataLoader\n",
    "import torchvision.datasets as d\n",
    "import torchvision.transforms as transforms"
   ]
  },
  {
   "cell_type": "code",
   "execution_count": 51,
   "metadata": {},
   "outputs": [],
   "source": [
    "transform = transforms.Compose([transforms.ToTensor()])\n",
    "mnsit_data = d.MNIST('datasets/MNIST',download=True)\n",
    "# data_loader = torch.utils.data.DataLoader(mnsit_data)\n"
   ]
  },
  {
   "cell_type": "code",
   "execution_count": null,
   "metadata": {},
   "outputs": [],
   "source": [
    "# Create a DataLoader\n",
    "data_loader = DataLoader(mnsit_data, shuffle=True)\n",
    "\n",
    "# Example: Iterate through the DataLoader\n",
    "for images, labels in data_loader:\n",
    "    print(images.shape)  # Shape of the batch of images\n",
    "    print(labels.shape)  # Shape of the batch of labels"
   ]
  },
  {
   "cell_type": "code",
   "execution_count": 34,
   "metadata": {},
   "outputs": [],
   "source": [
    "# Python script to read a ubyte file and create directories\n",
    "import os\n",
    "import numpy as np\n",
    "from PIL import Image\n",
    "import torch\n",
    "\n",
    "def get_mnist_images(image_dir):\n",
    "    \n",
    "    with open(image_dir,'rb') as f:\n",
    "        # Read the first 4 bytes (magic number)\n",
    "        magic_number = f.read(4)\n",
    "        num_items =  int.from_bytes(f.read(4), 'big')\n",
    "        num_rows =  int.from_bytes(f.read(4), 'big')\n",
    "        num_cols = int.from_bytes(f.read(4), 'big')\n",
    "\n",
    "        # Read images as an np array\n",
    "        images = np.frombuffer(f.read(),dtype=np.uint8).reshape(num_items,num_rows,num_cols)\n",
    "\n",
    "    return images\n",
    "\n",
    "def get_mnist_labels(label_dir):\n",
    "    with open(label_dir,'rb') as f:\n",
    "        # Read Bytes and Number of labels\n",
    "        magic_number = f.read(4)\n",
    "        num_items = int.from_bytes(f.read(4),'big')\n",
    "\n",
    "        # Get the labels in an array\n",
    "        labels = np.frombuffer(f.read(),dtype=np.uint8)\n",
    "    return labels\n",
    "\n",
    "\n",
    "def save_mnist_images(images,labels,output_dir):\n",
    "\n",
    "    # Create the output directory if it doesn't exist\n",
    "    os.makedirs(output_dir, exist_ok=True)\n",
    "\n",
    "    for i in range(images.shape[0]):\n",
    "        img = Image.fromarray(images[i],mode='L')\n",
    "        label = labels[i]\n",
    "\n",
    "        # Ensure output directory exists\n",
    "        label_dir = os.path.join(output_dir,str(label))\n",
    "        os.makedirs(label_dir, exist_ok=True)\n",
    "        \n",
    "        img.save(os.path.join(label_dir,f'image_{i}.png'))\n",
    "\n",
    "def process_mnist_images(files,split):\n",
    "    base_path = './datasets/MNIST/'\n",
    "    file_path = [os.path.join(base_path,x) for x in files]\n",
    "    output_dir = os.path.join(base_path,split)\n",
    "\n",
    "    images = get_mnist_images(file_path[0])\n",
    "    labels = get_mnist_labels(file_path[1])\n",
    "    save_mnist_images(images,labels,output_dir)\n",
    "\n",
    "# Get the File Locations\n",
    "files_train = ['train-images-idx3-ubyte','train-labels-idx1-ubyte']\n",
    "files_test = ['t10k-images-idx3-ubyte','t10k-labels-idx1-ubyte']\n",
    "\n",
    "try:\n",
    "    process_mnist_images(files_train, 'train')\n",
    "    process_mnist_images(files_test, 'val')\n",
    "except FileNotFoundError as e:\n",
    "    print(f\"Error: {e}. Please check the file paths.\")\n",
    "except ValueError as e:\n",
    "    print(f\"Validation Error: {e}\")"
   ]
  }
 ],
 "metadata": {
  "kernelspec": {
   "display_name": "Python 3",
   "language": "python",
   "name": "python3"
  },
  "language_info": {
   "codemirror_mode": {
    "name": "ipython",
    "version": 3
   },
   "file_extension": ".py",
   "mimetype": "text/x-python",
   "name": "python",
   "nbconvert_exporter": "python",
   "pygments_lexer": "ipython3",
   "version": "3.11.5"
  }
 },
 "nbformat": 4,
 "nbformat_minor": 2
}
