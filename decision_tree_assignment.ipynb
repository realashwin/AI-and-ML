{
  "nbformat": 4,
  "nbformat_minor": 0,
  "metadata": {
    "colab": {
      "provenance": [],
      "authorship_tag": "ABX9TyPesfP/MITIbe1tJY1zq0BD",
      "include_colab_link": true
    },
    "kernelspec": {
      "name": "python3",
      "display_name": "Python 3"
    },
    "language_info": {
      "name": "python"
    }
  },
  "cells": [
    {
      "cell_type": "markdown",
      "metadata": {
        "id": "view-in-github",
        "colab_type": "text"
      },
      "source": [
        "<a href=\"https://colab.research.google.com/github/realashwin/AI-and-ML/blob/dev/decision_tree_assignment.ipynb\" target=\"_parent\"><img src=\"https://colab.research.google.com/assets/colab-badge.svg\" alt=\"Open In Colab\"/></a>"
      ]
    },
    {
      "cell_type": "code",
      "execution_count": 1,
      "metadata": {
        "colab": {
          "base_uri": "https://localhost:8080/"
        },
        "id": "Wr30Crp7vw0E",
        "outputId": "a97fcf8c-0359-4f40-89f2-1f146a48269e"
      },
      "outputs": [
        {
          "output_type": "execute_result",
          "data": {
            "text/plain": [
              "0.8745"
            ]
          },
          "metadata": {},
          "execution_count": 1
        }
      ],
      "source": [
        "from sklearn.datasets import make_moons\n",
        "from sklearn.model_selection import train_test_split, GridSearchCV\n",
        "from sklearn.tree import DecisionTreeClassifier\n",
        "from sklearn.metrics import accuracy_score\n",
        "\n",
        "params = {\n",
        "    'max_leaf_nodes': list(range(2,100)),\n",
        "    'max_depth': list(range(1,7)),\n",
        "    'min_samples_split': [2,3,4]\n",
        "}\n",
        "\n",
        "X_moons, y_moons = make_moons(n_samples = 10000, noise = 0.4)\n",
        "X_train, X_test, y_train, y_test = train_test_split(X_moons,y_moons,test_size = 0.2,random_state=42)\n",
        "\n",
        "grid_search_cv = GridSearchCV(DecisionTreeClassifier(random_state=42),\n",
        "                              params,\n",
        "                              cv=3)\n",
        "grid_search_cv.fit(X_train,y_train)\n",
        "grid_search_cv.best_estimator_\n",
        "\n",
        "y_predict = grid_search_cv.predict(X_test)\n",
        "accuracy_score(y_test,y_predict)\n",
        "# grid_search_cv.score(X_test,y_test)"
      ]
    }
  ]
}